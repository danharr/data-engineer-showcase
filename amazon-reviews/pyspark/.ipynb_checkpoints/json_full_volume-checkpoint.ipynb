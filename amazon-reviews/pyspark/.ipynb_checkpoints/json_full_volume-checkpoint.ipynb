{
 "cells": [
  {
   "cell_type": "markdown",
   "id": "1f620845-e619-40c1-a591-42c6fd6da35f",
   "metadata": {},
   "source": [
    "# Reviews\n",
    "## keep only essential fields from cutover file"
   ]
  },
  {
   "cell_type": "code",
   "execution_count": 5,
   "id": "264f909b-d51f-45db-8be1-c1186eba41a1",
   "metadata": {},
   "outputs": [],
   "source": [
    "from pyspark.sql import SparkSession\n",
    "from pyspark.sql.types import StructType, StructField, StringType, IntegerType, DoubleType\n",
    "#from pyspark.sql.functions import to_date, date_format, col, when\n",
    "#from datetime import datetime\n",
    "\n",
    "\n",
    "# Initialize SparkSession\n",
    "spark = SparkSession.builder \\\n",
    "    .appName(\"Read JSON with PySpark\") \\\n",
    "    .getOrCreate()"
   ]
  },
  {
   "cell_type": "code",
   "execution_count": 6,
   "id": "01c80f8d-fc79-4704-8785-a471fcd20a78",
   "metadata": {},
   "outputs": [],
   "source": [
    "# Read JSON file into DataFrame\n",
    "\n",
    "reviews_schema = StructType([\n",
    "    StructField(\"reviewerID\", StringType(), False),\n",
    "    StructField(\"asin\", StringType(), False),\n",
    "    StructField(\"overall\", DoubleType(), False),\n",
    "    StructField(\"unixReviewTime\", StringType(), False)\n",
    "    \n",
    "])\n",
    "\n",
    "\n",
    "reviews = spark.read.json(\"item_dedup.json\", schema=reviews_schema)"
   ]
  },
  {
   "cell_type": "code",
   "execution_count": 7,
   "id": "b2d2b494-92f1-403a-bfd1-f00e7acb1459",
   "metadata": {},
   "outputs": [
    {
     "name": "stdout",
     "output_type": "stream",
     "text": [
      "root\n",
      " |-- reviewerID: string (nullable = true)\n",
      " |-- asin: string (nullable = true)\n",
      " |-- overall: double (nullable = true)\n",
      " |-- unixReviewTime: string (nullable = true)\n",
      "\n",
      "(83057018, 4)\n",
      "+--------------+----------+-------+--------------+\n",
      "|    reviewerID|      asin|overall|unixReviewTime|\n",
      "+--------------+----------+-------+--------------+\n",
      "|A3AF8FFZAZYNE5|0000000078|    5.0|    1092182400|\n",
      "| AH2L9G3DQHHAJ|0000000116|    4.0|    1019865600|\n",
      "|A2IIIDRK3PRRZY|0000000116|    1.0|    1395619200|\n",
      "|A1TADCM7YWPQ8M|0000000868|    4.0|    1031702400|\n",
      "| AWGH7V0BDOJKB|0000013714|    4.0|    1383177600|\n",
      "|A3UTQPQPM4TQO0|0000013714|    5.0|    1374883200|\n",
      "| A8ZS0I5L5V31B|0000013714|    5.0|    1393632000|\n",
      "| ACNGUPJ3A3TM9|0000013714|    4.0|    1386028800|\n",
      "|A3BED5QFJWK88M|0000013714|    4.0|    1350345600|\n",
      "|A2SUAM1J3GNN3B|0000013714|    5.0|    1252800000|\n",
      "| APOZ15IEYQRRR|0000013714|    5.0|    1362787200|\n",
      "| AYEDW3BFK53XK|0000013714|    5.0|    1325462400|\n",
      "|A1KLCGLCXYP1U1|0000013714|    3.0|    1376092800|\n",
      "|A37W6POFWIVG13|0000013714|    5.0|    1316131200|\n",
      "|A2EIPZNHAEXZHJ|0000013714|    4.0|    1325030400|\n",
      "|A1VAFVJFT58YI3|0000013714|    5.0|    1384300800|\n",
      "| A9KTKY6BUR8U6|0000013714|    1.0|    1357516800|\n",
      "|A2742OG8PK8KU6|0000013714|    5.0|    1358380800|\n",
      "|A38AAPXSJN4C5G|0000015393|    4.0|    1239494400|\n",
      "|A14A5Q8VJK5NLR|0000029831|    4.0|    1393286400|\n",
      "+--------------+----------+-------+--------------+\n",
      "only showing top 20 rows\n",
      "\n"
     ]
    }
   ],
   "source": [
    "# Display DataFrame schema\n",
    "reviews.printSchema()\n",
    "print((reviews.count(), len(reviews.columns)))\n",
    "# Display first few rows of DataFrame\n",
    "reviews.show()"
   ]
  },
  {
   "cell_type": "markdown",
   "id": "19e2689e-4d05-460a-9997-59e1eb9704dd",
   "metadata": {},
   "source": [
    "# export back to json then load onto S3, then into Snowflake"
   ]
  },
  {
   "cell_type": "code",
   "execution_count": 8,
   "id": "1548fe1d-36b0-4e1b-83b0-1c4dec70c64d",
   "metadata": {},
   "outputs": [],
   "source": [
    "reviews = reviews.repartition(20)\n",
    "reviews.write.mode(\"overwrite\").json(\"sample\")"
   ]
  },
  {
   "cell_type": "code",
   "execution_count": null,
   "id": "a5dec0ec-13b0-4813-9f03-79c4e279ea9c",
   "metadata": {},
   "outputs": [],
   "source": []
  }
 ],
 "metadata": {
  "kernelspec": {
   "display_name": "Python 3 (ipykernel)",
   "language": "python",
   "name": "python3"
  },
  "language_info": {
   "codemirror_mode": {
    "name": "ipython",
    "version": 3
   },
   "file_extension": ".py",
   "mimetype": "text/x-python",
   "name": "python",
   "nbconvert_exporter": "python",
   "pygments_lexer": "ipython3",
   "version": "3.11.6"
  }
 },
 "nbformat": 4,
 "nbformat_minor": 5
}
