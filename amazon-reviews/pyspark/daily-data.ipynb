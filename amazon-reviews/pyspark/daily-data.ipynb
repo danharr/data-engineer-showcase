{
 "cells": [
  {
   "cell_type": "markdown",
   "id": "1f620845-e619-40c1-a591-42c6fd6da35f",
   "metadata": {},
   "source": [
    "# Reviews\n",
    "## create an example of one's worth of data to use in a data pipeline"
   ]
  },
  {
   "cell_type": "code",
   "execution_count": 18,
   "id": "264f909b-d51f-45db-8be1-c1186eba41a1",
   "metadata": {},
   "outputs": [],
   "source": [
    "from pyspark.sql import SparkSession\n",
    "from pyspark.sql.types import StructType, StructField, StringType, IntegerType, DoubleType\n",
    "from pyspark.sql.functions import col , from_unixtime\n",
    "#from pyspark.sql.functions import to_date, date_format, col, when\n",
    "from datetime import datetime\n",
    "\n",
    "\n",
    "# Initialize SparkSession\n",
    "spark = SparkSession.builder \\\n",
    "    .appName(\"Read JSON with PySpark\") \\\n",
    "    .getOrCreate()"
   ]
  },
  {
   "cell_type": "code",
   "execution_count": 19,
   "id": "01c80f8d-fc79-4704-8785-a471fcd20a78",
   "metadata": {},
   "outputs": [],
   "source": [
    "# Read JSON file into DataFrame\n",
    "\n",
    "reviews_schema = StructType([\n",
    "    StructField(\"reviewerID\", StringType(), False),\n",
    "    StructField(\"asin\", StringType(), False),\n",
    "    StructField(\"overall\", DoubleType(), False),\n",
    "    StructField(\"reviewerName\", StringType(), False),   \n",
    "    StructField(\"reviewText\", StringType(), False),   \n",
    "    StructField(\"summary\", StringType(), False), \n",
    "    StructField(\"unixReviewTime\", StringType(), False),\n",
    "StructField(\"reviewTime\", StringType(), False)\n",
    "\n",
    "    \n",
    "    \n",
    "])\n",
    "\n",
    "\n",
    "reviews = spark.read.json(\"item_dedup.json\", schema=reviews_schema)"
   ]
  },
  {
   "cell_type": "code",
   "execution_count": 20,
   "id": "05916d55-9dca-4e9d-ae50-8424f4167839",
   "metadata": {},
   "outputs": [
    {
     "name": "stdout",
     "output_type": "stream",
     "text": [
      "(83057018, 8)\n"
     ]
    }
   ],
   "source": [
    "print((reviews.count(), len(reviews.columns)))"
   ]
  },
  {
   "cell_type": "code",
   "execution_count": 21,
   "id": "b2d2b494-92f1-403a-bfd1-f00e7acb1459",
   "metadata": {},
   "outputs": [
    {
     "name": "stdout",
     "output_type": "stream",
     "text": [
      "(100348, 8)\n",
      "+--------------+----------+-------+--------------------+--------------------+--------------------+--------------+-----------+\n",
      "|    reviewerID|      asin|overall|        reviewerName|          reviewText|             summary|unixReviewTime| reviewTime|\n",
      "+--------------+----------+-------+--------------------+--------------------+--------------------+--------------+-----------+\n",
      "|A2IIIDRK3PRRZY|0000000116|    1.0|              Helene|The thumbnail is ...|Listing is all sc...|    1395619200|03 24, 2014|\n",
      "|A2VDQJ2SRW2GEQ|0002007770|    3.0|           taurus294|This was an easy ...|       disappointing|    1395619200|03 24, 2014|\n",
      "| AS6TPQ1TAX8L3|0002051850|    1.0|                 cas|I somehow managed...|Maybe I am missin...|    1395619200|03 24, 2014|\n",
      "| AKPTV77C1O0Z0|000215949X|    5.0|           Tom Glass|One of the few co...|  Excellent Cookbook|    1395619200|03 24, 2014|\n",
      "|A3KXEK9OYRC71R|0002185385|    5.0|Charles2x \"Charle...|I would recommend...|      Excellent book|    1395619200|03 24, 2014|\n",
      "|A2B4TWE2BA4H4P|0002219417|    5.0|Ward A. Campbell ...|This is the ultim...|Novel of grand vi...|    1395619200|03 24, 2014|\n",
      "|A1I3D47EC8T3XS|0002247399|    5.0|     Amazon Customer|What a wild ride ...|Fighting Not to R...|    1395619200|03 24, 2014|\n",
      "|A1TT4CY55WLHAR|0002247399|    3.0|           anonymous|The man whose voi...|The man whose voi...|    1395619200|03 24, 2014|\n",
      "|A2GJ6CU146HO3I|0002247399|    5.0|                  ED|I just can't get ...|Worth every dolla...|    1395619200|03 24, 2014|\n",
      "|A1B7GKDOT7N8Z8|0002247399|    5.0|    grad_student2012|Written in the sa...|Best Book in the ...|    1395619200|03 24, 2014|\n",
      "|A27N42N90RST6R|0002247399|    4.0|             lisalee|To many character...|           very good|    1395619200|03 24, 2014|\n",
      "|A16QKGRH64TK58|0002247399|    4.0|Michelle B. \"Aust...|I loved this seri...|Loved the book bu...|    1395619200|03 24, 2014|\n",
      "| AK7PTPKMTO17J|0002251337|    5.0| Marjorie K. Wallace|Loved this little...|Balsamic Vinegar ...|    1395619200|03 24, 2014|\n",
      "|A35KPAC2P9WYNC|0003222977|    5.0|      Active Citizen|Sharing Shakespea...| Excellent resource!|    1395619200|03 24, 2014|\n",
      "|A2D1QZA2F8WKR4|0006120520|    1.0|                NULL|I had started rea...|This book is an e...|    1395619200|03 24, 2014|\n",
      "|A26B2XC7TEE5PS|0006550339|    5.0|        Janis Barman|My husband loved ...|            Kon Tiki|    1395619200|03 24, 2014|\n",
      "| ASUHRDHLAL83V|0006551807|    3.0|T. Kessler \"Disap...|I loved the way t...|well written but ...|    1395619200|03 24, 2014|\n",
      "|A105TMLESHR0Y4|0007103417|    5.0|       Karen Huestis|I like the one mi...|And older book, b...|    1395619200|03 24, 2014|\n",
      "|A1ZRID98IVU9DU|0007107927|    3.0|                 Jim|Chose this rating...|                Good|    1395619200|03 24, 2014|\n",
      "|A105TMLESHR0Y4|0007107927|    5.0|       Karen Huestis|I read this book ...|Bought it for a f...|    1395619200|03 24, 2014|\n",
      "+--------------+----------+-------+--------------------+--------------------+--------------------+--------------+-----------+\n",
      "only showing top 20 rows\n",
      "\n"
     ]
    }
   ],
   "source": [
    "reviews_recent = reviews.filter(col(\"unixReviewTime\") == 1395619200)  # one day. 24th march 2014\n",
    "\n",
    "print((reviews_recent.count(), len(reviews_recent.columns)))\n",
    "# Display first few rows of DataFrame\n",
    "reviews_recent.show()"
   ]
  },
  {
   "cell_type": "markdown",
   "id": "19e2689e-4d05-460a-9997-59e1eb9704dd",
   "metadata": {},
   "source": [
    "# export back to json then load onto S3, then into Snowflake"
   ]
  },
  {
   "cell_type": "code",
   "execution_count": 22,
   "id": "1548fe1d-36b0-4e1b-83b0-1c4dec70c64d",
   "metadata": {},
   "outputs": [],
   "source": [
    "reviews_recent.write.json(\"one_day\", compression=\"gzip\")"
   ]
  },
  {
   "cell_type": "code",
   "execution_count": 23,
   "id": "a5dec0ec-13b0-4813-9f03-79c4e279ea9c",
   "metadata": {},
   "outputs": [
    {
     "name": "stdout",
     "output_type": "stream",
     "text": [
      "2024-04-22 13:43:12.491188\n"
     ]
    }
   ],
   "source": [
    "print(datetime.now())"
   ]
  },
  {
   "cell_type": "code",
   "execution_count": null,
   "id": "39edba90-a675-4641-989d-b92750f3e849",
   "metadata": {},
   "outputs": [],
   "source": []
  }
 ],
 "metadata": {
  "kernelspec": {
   "display_name": "Python 3 (ipykernel)",
   "language": "python",
   "name": "python3"
  },
  "language_info": {
   "codemirror_mode": {
    "name": "ipython",
    "version": 3
   },
   "file_extension": ".py",
   "mimetype": "text/x-python",
   "name": "python",
   "nbconvert_exporter": "python",
   "pygments_lexer": "ipython3",
   "version": "3.11.6"
  }
 },
 "nbformat": 4,
 "nbformat_minor": 5
}
