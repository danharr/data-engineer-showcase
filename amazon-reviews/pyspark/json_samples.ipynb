{
 "cells": [
  {
   "cell_type": "code",
   "execution_count": 1,
   "id": "27cadb5b-420b-47b9-bbd1-7eb61dede1e9",
   "metadata": {},
   "outputs": [],
   "source": [
    "#what issues are there in the first 1000 rows?"
   ]
  },
  {
   "cell_type": "code",
   "execution_count": 2,
   "id": "264f909b-d51f-45db-8be1-c1186eba41a1",
   "metadata": {},
   "outputs": [],
   "source": [
    "from pyspark.sql import SparkSession\n",
    "from pyspark.sql.types import StructType, StructField, StringType, IntegerType, DoubleType\n",
    "#from pyspark.sql.functions import to_date, date_format, col, when\n",
    "#from datetime import datetime\n",
    "\n",
    "\n",
    "# Initialize SparkSession\n",
    "spark = SparkSession.builder \\\n",
    "    .appName(\"Read JSON with PySpark\") \\\n",
    "    .getOrCreate()"
   ]
  },
  {
   "cell_type": "code",
   "execution_count": 3,
   "id": "01c80f8d-fc79-4704-8785-a471fcd20a78",
   "metadata": {},
   "outputs": [],
   "source": [
    "# Read JSON file into DataFrame\n",
    "\n",
    "reviews_schema = StructType([\n",
    "    StructField(\"reviewerID\", StringType(), True),\n",
    "    StructField(\"asin\", StringType(), True),\n",
    "    StructField(\"helpful\", StringType(), True),\n",
    "     StructField(\"reviewerName\", StringType(), True),\n",
    "StructField(\"overall\", DoubleType(), True),\n",
    "StructField(\"summary\", StringType(), True),\n",
    "StructField(\"unixReviewTime\", StringType(), True),\n",
    "StructField(\"reviewTime\", StringType(), True)\n",
    "    \n",
    "])\n",
    "\n",
    "\n",
    "reviews = spark.read.json(\"item_dedup_sample.json\", schema=reviews_schema)"
   ]
  },
  {
   "cell_type": "code",
   "execution_count": 4,
   "id": "b2d2b494-92f1-403a-bfd1-f00e7acb1459",
   "metadata": {},
   "outputs": [
    {
     "name": "stdout",
     "output_type": "stream",
     "text": [
      "root\n",
      " |-- reviewerID: string (nullable = true)\n",
      " |-- asin: string (nullable = true)\n",
      " |-- helpful: string (nullable = true)\n",
      " |-- reviewerName: string (nullable = true)\n",
      " |-- overall: double (nullable = true)\n",
      " |-- summary: string (nullable = true)\n",
      " |-- unixReviewTime: string (nullable = true)\n",
      " |-- reviewTime: string (nullable = true)\n",
      "\n",
      "+--------------+----------+-------+--------------------+-------+--------------------+--------------+-----------+\n",
      "|    reviewerID|      asin|helpful|        reviewerName|overall|             summary|unixReviewTime| reviewTime|\n",
      "+--------------+----------+-------+--------------------+-------+--------------------+--------------+-----------+\n",
      "|A3AF8FFZAZYNE5|0000000078|  [1,1]|                NULL|    5.0|          Impactful!|    1092182400|08 11, 2004|\n",
      "| AH2L9G3DQHHAJ|0000000116|  [5,5]|               chris|    4.0|  Show me the money!|    1019865600|04 27, 2002|\n",
      "|A2IIIDRK3PRRZY|0000000116|  [0,0]|              Helene|    1.0|Listing is all sc...|    1395619200|03 24, 2014|\n",
      "|A1TADCM7YWPQ8M|0000000868|[10,10]|            Joel@AWS|    4.0|Not a Bad Transla...|    1031702400|09 11, 2002|\n",
      "| AWGH7V0BDOJKB|0000013714|  [0,0]|    Barbara Marshall|    4.0| Not the large print|    1383177600|10 31, 2013|\n",
      "|A3UTQPQPM4TQO0|0000013714|  [0,0]|       betty burnett|    5.0|I was disappointe...|    1374883200|07 27, 2013|\n",
      "| A8ZS0I5L5V31B|0000013714|  [0,0]|Ephraim O. Nwabuokei|    5.0|    GREAT HYMN BOOK!|    1393632000| 03 1, 2014|\n",
      "| ACNGUPJ3A3TM9|0000013714|  [0,0]|                 GCM|    4.0|         Nice Hymnal|    1386028800| 12 3, 2013|\n",
      "|A3BED5QFJWK88M|0000013714|  [0,0]|              jimedd|    4.0|Heavenly Highway ...|    1350345600|10 16, 2012|\n",
      "|A2SUAM1J3GNN3B|0000013714|  [2,3]|         J. McDonald|    5.0|Heavenly Highway ...|    1252800000|09 13, 2009|\n",
      "| APOZ15IEYQRRR|0000013714|  [0,0]|           maewest64|    5.0|   Awesome Hymn Book|    1362787200| 03 9, 2013|\n",
      "| AYEDW3BFK53XK|0000013714|  [0,0]|               Missb|    5.0|Hand Clapping Toe...|    1325462400| 01 2, 2012|\n",
      "|A1KLCGLCXYP1U1|0000013714|  [0,0]| Paul L \"Paul Lytle\"|    3.0|          Misleading|    1376092800|08 10, 2013|\n",
      "|A37W6POFWIVG13|0000013714|  [3,3]|             Prisley|    5.0| Wonderful Hymn Book|    1316131200|09 16, 2011|\n",
      "|A2EIPZNHAEXZHJ|0000013714|  [2,2]|          readingfan|    4.0|Great hymn selection|    1325030400|12 28, 2011|\n",
      "|A1VAFVJFT58YI3|0000013714|  [0,0]|       Sandi Dobbins|    5.0|               Books|    1384300800|11 13, 2013|\n",
      "| A9KTKY6BUR8U6|0000013714|  [1,1]|       Timothy Royer|    1.0|    Not worth the $$|    1357516800| 01 7, 2013|\n",
      "|A2742OG8PK8KU6|0000013714|  [0,0]|          TRYINTIMES|    5.0|WONDERFUL PURCHAS...|    1358380800|01 17, 2013|\n",
      "|A38AAPXSJN4C5G|0000015393|  [1,1]|    Edward J. Barton|    4.0|Dated but Valuabl...|    1239494400|04 12, 2009|\n",
      "|A14A5Q8VJK5NLR|0000029831|  [3,3]|               Auros|    4.0|Logical follow-up...|    1393286400|02 25, 2014|\n",
      "+--------------+----------+-------+--------------------+-------+--------------------+--------------+-----------+\n",
      "only showing top 20 rows\n",
      "\n"
     ]
    }
   ],
   "source": [
    "# Display DataFrame schema\n",
    "reviews.printSchema()\n",
    "\n",
    "# Display first few rows of DataFrame\n",
    "reviews.show()"
   ]
  },
  {
   "cell_type": "code",
   "execution_count": 10,
   "id": "6dd70fcf-d4df-4fed-83d1-687aac087a45",
   "metadata": {},
   "outputs": [],
   "source": [
    "# Read JSON file into DataFrame\n",
    "\n",
    "meta_schema = StructType([\n",
    "    StructField(\"salesRank\", StringType(), True),\n",
    "    StructField(\"asin\", StringType(), True),\n",
    "StructField(\"description\", StringType(), True),\n",
    "StructField(\"related\", StringType(), True),\n",
    "StructField(\"title\", StringType(), True),\n",
    "StructField(\"price\", StringType(), True),\n",
    "   StructField(\"imUrl\", StringType(), True) \n",
    "])\n",
    "\n",
    "\n",
    "metadata = spark.read.json(\"metadata_sample.json\", schema=meta_schema)"
   ]
  },
  {
   "cell_type": "code",
   "execution_count": 11,
   "id": "3fe6b430-53a4-4d69-9926-55600d1b3606",
   "metadata": {},
   "outputs": [
    {
     "name": "stdout",
     "output_type": "stream",
     "text": [
      "root\n",
      " |-- salesRank: string (nullable = true)\n",
      " |-- asin: string (nullable = true)\n",
      " |-- description: string (nullable = true)\n",
      " |-- related: string (nullable = true)\n",
      " |-- title: string (nullable = true)\n",
      " |-- price: string (nullable = true)\n",
      " |-- imUrl: string (nullable = true)\n",
      "\n",
      "+--------------------+----------+--------------------+--------------------+--------------------+-----+--------------------+\n",
      "|           salesRank|      asin|         description|             related|               title|price|               imUrl|\n",
      "+--------------------+----------+--------------------+--------------------+--------------------+-----+--------------------+\n",
      "|   {\"Books\":6334800}|0001048791|                NULL|                NULL|The Crucible: Per...| NULL|http://ecx.images...|\n",
      "|{\"Movies & TV\":37...|0000143561|3Pack DVD set - I...|{\"also_viewed\":[\"...|Everyday Italian ...|12.99|http://g-ecx.imag...|\n",
      "|{\"Clothing\":1233557}|0000037214|                NULL|{\"also_viewed\":[\"...|Purple Sequin Tin...| 6.99|http://ecx.images...|\n",
      "|                NULL|0000032069|                NULL|{\"also_bought\":[\"...|Adult Ballet Tutu...| 7.89|http://ecx.images...|\n",
      "|{\"Toys & Games\":2...|0000031909|High quality 3 la...|{\"also_bought\":[\"...|Girls Ballet Tutu...|  7.0|http://ecx.images...|\n",
      "|                NULL|0000032034|                NULL|{\"also_bought\":[\"...|Adult Ballet Tutu...| 7.87|http://ecx.images...|\n",
      "|{\"Movies & TV\":10...|0000589012|                NULL|{\"also_bought\":[\"...|Why Don't They Ju...|15.95|http://ecx.images...|\n",
      "|  {\"Books\":13243226}|0001048775|William Shakespea...|                NULL|Measure for Measu...| NULL|http://ecx.images...|\n",
      "|{\"Toys & Games\":2...|0000031852|                TUtu|{\"also_bought\":[\"...|Girls Ballet Tutu...| 3.17|http://ecx.images...|\n",
      "|   {\"Books\":8973864}|0001048236|&#34;One thing is...|{\"also_viewed\":[\"...|The Sherlock Holm...| 9.26|http://ecx.images...|\n",
      "|   {\"Books\":6448843}|0000401048|                NULL|{\"also_viewed\":[\"...|The rogue of publ...| NULL|http://ecx.images...|\n",
      "|   {\"Books\":9589258}|0001019880|                NULL|{\"also_viewed\":[\"...|Classic Soul Winn...| 5.39|http://ecx.images...|\n",
      "|                NULL|0001048813|                NULL|                NULL|Archer Christmas ...| NULL|http://ecx.images...|\n",
      "|   {\"Books\":5806769}|0001148427|                NULL|                NULL| Sonatas - For Piano| NULL|http://ecx.images...|\n",
      "|   {\"Books\":9318563}|0001057170|[Editor's Note: T...|                NULL|Classic Connolly ...| NULL|http://ecx.images...|\n",
      "|   {\"Books\":3628249}|0001047566|                NULL|                NULL|       Hand in Glove| NULL|http://ecx.images...|\n",
      "|  {\"Books\":12249714}|0001053396|Writing poetry ha...|                NULL|War Poems: An Ant...|17.99|http://ecx.images...|\n",
      "|    {\"Books\":455782}|0000913154|                NULL|{\"also_bought\":[\"...|The Way Things Wo...|23.26|http://ecx.images...|\n",
      "|                NULL|0000032050|                NULL|{\"also_bought\":[\"...|Adult Ballet Tutu...|12.85|http://ecx.images...|\n",
      "|   {\"Books\":8296784}|0001072986|William Shakespea...|                NULL|As You Like it: C...| NULL|http://ecx.images...|\n",
      "+--------------------+----------+--------------------+--------------------+--------------------+-----+--------------------+\n",
      "only showing top 20 rows\n",
      "\n"
     ]
    }
   ],
   "source": [
    "# Display DataFrame schema\n",
    "metadata.printSchema()\n",
    "\n",
    "# Display first few rows of DataFrame\n",
    "metadata.show()"
   ]
  },
  {
   "cell_type": "code",
   "execution_count": 13,
   "id": "516919cd-ad64-4bae-a646-147b63635dc7",
   "metadata": {},
   "outputs": [
    {
     "name": "stdout",
     "output_type": "stream",
     "text": [
      "http://ecx.images-amazon.com/images/I/51SC9FWR8RL.jpg\n"
     ]
    }
   ],
   "source": [
    "print(metadata.collect()[57][6])"
   ]
  },
  {
   "cell_type": "code",
   "execution_count": null,
   "id": "0179d550-3c1b-4cb7-a7d3-670eea1d7a82",
   "metadata": {},
   "outputs": [],
   "source": []
  }
 ],
 "metadata": {
  "kernelspec": {
   "display_name": "Python 3 (ipykernel)",
   "language": "python",
   "name": "python3"
  },
  "language_info": {
   "codemirror_mode": {
    "name": "ipython",
    "version": 3
   },
   "file_extension": ".py",
   "mimetype": "text/x-python",
   "name": "python",
   "nbconvert_exporter": "python",
   "pygments_lexer": "ipython3",
   "version": "3.11.6"
  }
 },
 "nbformat": 4,
 "nbformat_minor": 5
}
