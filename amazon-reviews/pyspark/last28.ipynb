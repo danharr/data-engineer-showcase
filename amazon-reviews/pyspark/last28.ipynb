{
 "cells": [
  {
   "cell_type": "markdown",
   "id": "1f620845-e619-40c1-a591-42c6fd6da35f",
   "metadata": {},
   "source": [
    "# Reviews\n",
    "## keep only last 28 days, all text and images domain removed"
   ]
  },
  {
   "cell_type": "code",
   "execution_count": 87,
   "id": "264f909b-d51f-45db-8be1-c1186eba41a1",
   "metadata": {},
   "outputs": [],
   "source": [
    "from pyspark.sql import SparkSession\n",
    "from pyspark.sql.types import StructType, StructField, StringType, IntegerType, DoubleType\n",
    "from pyspark.sql.functions import col , from_unixtime\n",
    "#from pyspark.sql.functions import to_date, date_format, col, when\n",
    "from datetime import datetime\n",
    "\n",
    "\n",
    "# Initialize SparkSession\n",
    "spark = SparkSession.builder \\\n",
    "    .appName(\"Read JSON with PySpark\") \\\n",
    "    .getOrCreate()"
   ]
  },
  {
   "cell_type": "code",
   "execution_count": 88,
   "id": "01c80f8d-fc79-4704-8785-a471fcd20a78",
   "metadata": {},
   "outputs": [],
   "source": [
    "# Read JSON file into DataFrame\n",
    "\n",
    "reviews_schema = StructType([\n",
    "    StructField(\"reviewerID\", StringType(), False),\n",
    "    StructField(\"asin\", StringType(), False),\n",
    "    StructField(\"overall\", DoubleType(), False),\n",
    "    StructField(\"reviewerName\", StringType(), False),   \n",
    "    StructField(\"reviewText\", StringType(), False),   \n",
    "    StructField(\"summary\", StringType(), False), \n",
    "    StructField(\"unixReviewTime\", StringType(), False)\n",
    "\n",
    "\n",
    "    \n",
    "    \n",
    "])\n",
    "\n",
    "\n",
    "reviews = spark.read.json(\"item_dedup.json\", schema=reviews_schema)"
   ]
  },
  {
   "cell_type": "code",
   "execution_count": 89,
   "id": "05916d55-9dca-4e9d-ae50-8424f4167839",
   "metadata": {},
   "outputs": [
    {
     "name": "stdout",
     "output_type": "stream",
     "text": [
      "root\n",
      " |-- reviewerID: string (nullable = true)\n",
      " |-- asin: string (nullable = true)\n",
      " |-- overall: double (nullable = true)\n",
      " |-- reviewerName: string (nullable = true)\n",
      " |-- reviewText: string (nullable = true)\n",
      " |-- summary: string (nullable = true)\n",
      " |-- unixReviewTime: string (nullable = true)\n",
      "\n",
      "(83057018, 7)\n"
     ]
    }
   ],
   "source": [
    "# Display DataFrame schema\n",
    "reviews.printSchema()\n",
    "print((reviews.count(), len(reviews.columns)))\n"
   ]
  },
  {
   "cell_type": "code",
   "execution_count": 90,
   "id": "acbbb300-5b5e-4aca-a44c-78a18c22d572",
   "metadata": {},
   "outputs": [],
   "source": [
    "# Display first few rows of DataFrame\n",
    "#reviews = reviews.withColumn(\"date_column\", from_unixtime(\"unixReviewTime\"))\n",
    "#f = reviews.orderBy(reviews[\"date_column\"].desc())\n",
    "#f.show()"
   ]
  },
  {
   "cell_type": "code",
   "execution_count": 91,
   "id": "b2d2b494-92f1-403a-bfd1-f00e7acb1459",
   "metadata": {},
   "outputs": [
    {
     "name": "stdout",
     "output_type": "stream",
     "text": [
      "(4958839, 7)\n",
      "+--------------+----------+-------+--------------------+--------------------+--------------------+--------------+\n",
      "|    reviewerID|      asin|overall|        reviewerName|          reviewText|             summary|unixReviewTime|\n",
      "+--------------+----------+-------+--------------------+--------------------+--------------------+--------------+\n",
      "|A1MCJONUQ78L9T|0000031887|    5.0|     Amazon Customer|Purchased it for ...|My daughter loved...|    1402876800|\n",
      "|A28E4JIUJA10DK|0000031887|    5.0|               doris|This is perfect m...|Girl Ballet TuTu Red|    1402272000|\n",
      "|A3KA7Y9BUFBLZG|0000031887|    5.0|              hariet|A beautiful yello...|          great tutu|    1401926400|\n",
      "|A186E2SU6URFZI|0000031887|    1.0|                 Jae|Very cute however...|   Wouldnt buy again|    1402531200|\n",
      "| A9A1P7C3G1V9H|0000031909|    2.0|      michelle smith|Cheap fabric, it ...|           Two Stars|    1404950400|\n",
      "|A3TBJ4L4RGPIGE|0000032034|    5.0|          D. Simpson|As described...th...|           Wonderful|    1403136000|\n",
      "|A107J9TV0VW5I7|0000032050|    5.0|                NULL|I bought this for...|           Good buy!|    1405209600|\n",
      "|A1ZC6T6VPBKWXD|0000032069|    5.0|          Michelle M|Need a costume? A...|             Awesome|    1402704000|\n",
      "|A25DQKCOPNDCFC|000100039X|    5.0|Caitlyn A. Mayfai...|a great book.  ve...|        a great book|    1403049600|\n",
      "|A3NPACKJFKAZIE|000100039X|    5.0|              Chavez|Beautiful and pea...|           Beautiful|    1403049600|\n",
      "|A256HLO8LOZ7TM|000100039X|    5.0|       Edward Widmer|     Excellent  book|         The Prophet|    1404518400|\n",
      "|A2QTSBRRLU72X6|000100039X|    5.0|Elaine Morris \"El...|I read this a ver...|You'll take a dif...|    1404086400|\n",
      "|A30UW1EYD6HBI1|000100039X|    2.0|     Janice Triplett|I purchased under...|         big mistake|    1403481600|\n",
      "|A1TYDYZO9JV5LX|000100039X|    1.0|          J. Eastman|I ordered a new c...|                Used|    1403913600|\n",
      "| A2DFYTW62P25Z|000100039X|    5.0|J. R. Willoughby DDS|I was in my twent...|Through four decades|    1402704000|\n",
      "| A9T8ZRNEKGKTD|000100039X|    5.0|                Lisa|This is a great b...|Profound and insp...|    1402272000|\n",
      "|A1AKJXUHMZS9B6|000100039X|    5.0|     margaret a rice|i never read it y...|                gift|    1402358400|\n",
      "|A2KF83ZHI268GI|000100039X|    5.0|           rvassanji|Quote from The Pr...|         the essence|    1401580800|\n",
      "|A18J1IH6920OXC|0001047566|    4.0|           M. Layton|This novel is rea...|Twisting in the wind|    1404777600|\n",
      "|A2OWKKWV917X9X|0001048791|    5.0|      Veronica Ramos|Completely unabri...|         Great Audio|    1402531200|\n",
      "+--------------+----------+-------+--------------------+--------------------+--------------------+--------------+\n",
      "only showing top 20 rows\n",
      "\n"
     ]
    }
   ],
   "source": [
    "reviews_recent = reviews.filter(col(\"unixReviewTime\") >= 1401577200)  # Unix timestamp for june 1st, 2014\n",
    "\n",
    "print((reviews_recent.count(), len(reviews_recent.columns)))\n",
    "# Display first few rows of DataFrame\n",
    "reviews_recent.show()"
   ]
  },
  {
   "cell_type": "markdown",
   "id": "19e2689e-4d05-460a-9997-59e1eb9704dd",
   "metadata": {},
   "source": [
    "# export back to json then load onto S3, then into Snowflake"
   ]
  },
  {
   "cell_type": "code",
   "execution_count": 92,
   "id": "1548fe1d-36b0-4e1b-83b0-1c4dec70c64d",
   "metadata": {},
   "outputs": [],
   "source": [
    "reviews_recent = reviews_recent.repartition(1)\n",
    "reviews_recent.write.mode(\"overwrite\").json(\"june2014\")"
   ]
  },
  {
   "cell_type": "code",
   "execution_count": 93,
   "id": "a5dec0ec-13b0-4813-9f03-79c4e279ea9c",
   "metadata": {},
   "outputs": [
    {
     "name": "stdout",
     "output_type": "stream",
     "text": [
      "2024-04-20 18:33:56.591807\n"
     ]
    }
   ],
   "source": [
    "print(datetime.now())"
   ]
  },
  {
   "cell_type": "code",
   "execution_count": 94,
   "id": "e633b7cb-2906-4c59-9b4a-4c04487fbc7a",
   "metadata": {},
   "outputs": [],
   "source": [
    "spark.stop()"
   ]
  },
  {
   "cell_type": "code",
   "execution_count": null,
   "id": "39edba90-a675-4641-989d-b92750f3e849",
   "metadata": {},
   "outputs": [],
   "source": []
  }
 ],
 "metadata": {
  "kernelspec": {
   "display_name": "Python 3 (ipykernel)",
   "language": "python",
   "name": "python3"
  },
  "language_info": {
   "codemirror_mode": {
    "name": "ipython",
    "version": 3
   },
   "file_extension": ".py",
   "mimetype": "text/x-python",
   "name": "python",
   "nbconvert_exporter": "python",
   "pygments_lexer": "ipython3",
   "version": "3.11.6"
  }
 },
 "nbformat": 4,
 "nbformat_minor": 5
}
