{
 "cells": [
  {
   "cell_type": "markdown",
   "id": "cffdfb0b-66f8-4396-bc3d-743e6adf524e",
   "metadata": {},
   "source": [
    "### what issues are there in the first 1000 rows?"
   ]
  },
  {
   "cell_type": "code",
   "execution_count": 1,
   "id": "264f909b-d51f-45db-8be1-c1186eba41a1",
   "metadata": {},
   "outputs": [],
   "source": [
    "from pyspark.sql import SparkSession\n",
    "from pyspark.sql.types import StructType, StructField, StringType, IntegerType, DoubleType, ArrayType\n",
    "#from pyspark.sql.functions import to_date, date_format, col, when\n",
    "#from datetime import datetime\n",
    "\n",
    "\n",
    "# Initialize SparkSession\n",
    "spark = SparkSession.builder \\\n",
    "    .appName(\"Read JSON with PySpark\") \\\n",
    "    .getOrCreate()"
   ]
  },
  {
   "cell_type": "code",
   "execution_count": 2,
   "id": "6dd70fcf-d4df-4fed-83d1-687aac087a45",
   "metadata": {},
   "outputs": [],
   "source": [
    "# Read JSON file into DataFrame\n",
    "# plit out related field to get buy_after_viewing\n",
    "\n",
    "meta_schema = StructType([\n",
    "    StructField(\"asin\", StringType(), True),\n",
    "   StructField(\"categories\", ArrayType(ArrayType(StringType()),True), True) \n",
    "\n",
    "    \n",
    "])\n",
    "\n",
    "\n",
    "metadata = spark.read.json(\"metadata.json\", schema=meta_schema)"
   ]
  },
  {
   "cell_type": "code",
   "execution_count": 3,
   "id": "3fe6b430-53a4-4d69-9926-55600d1b3606",
   "metadata": {},
   "outputs": [
    {
     "name": "stdout",
     "output_type": "stream",
     "text": [
      "root\n",
      " |-- asin: string (nullable = true)\n",
      " |-- categories: array (nullable = true)\n",
      " |    |-- element: array (containsNull = true)\n",
      " |    |    |-- element: string (containsNull = true)\n",
      "\n",
      "(9430088, 2)\n"
     ]
    }
   ],
   "source": [
    "# Display DataFrame schema\n",
    "metadata.printSchema()\n",
    "print((metadata.count(), len(metadata.columns)))"
   ]
  },
  {
   "cell_type": "code",
   "execution_count": 4,
   "id": "df77fa7a-0e93-40c8-9e56-47205eb58665",
   "metadata": {},
   "outputs": [],
   "source": [
    "\n",
    "from pyspark.sql.functions import explode,flatten\n",
    "exploded = metadata.select(metadata.asin,explode(metadata.categories))"
   ]
  },
  {
   "cell_type": "code",
   "execution_count": 5,
   "id": "43a8ba7d-b19b-4207-af4f-bfa4626cb262",
   "metadata": {},
   "outputs": [],
   "source": [
    "exploded = exploded.select(exploded.asin,explode(exploded.col).alias('category'))"
   ]
  },
  {
   "cell_type": "code",
   "execution_count": 6,
   "id": "211a87b2-6d2d-463b-933d-c232eca2bbe2",
   "metadata": {},
   "outputs": [
    {
     "name": "stdout",
     "output_type": "stream",
     "text": [
      "(44701384, 2)\n"
     ]
    }
   ],
   "source": [
    "print((exploded.count(), len(exploded.columns)))"
   ]
  },
  {
   "cell_type": "code",
   "execution_count": 7,
   "id": "18ff2193-bf51-40e4-9e13-ad7a4187d12f",
   "metadata": {},
   "outputs": [],
   "source": [
    "exploded = exploded.repartition(20)\n",
    "exploded.write.mode(\"overwrite\").json(\"metadata_splits\")"
   ]
  },
  {
   "cell_type": "code",
   "execution_count": null,
   "id": "f31d6561-33c2-4b34-b99b-823a88ad9de7",
   "metadata": {},
   "outputs": [],
   "source": []
  }
 ],
 "metadata": {
  "kernelspec": {
   "display_name": "Python 3 (ipykernel)",
   "language": "python",
   "name": "python3"
  },
  "language_info": {
   "codemirror_mode": {
    "name": "ipython",
    "version": 3
   },
   "file_extension": ".py",
   "mimetype": "text/x-python",
   "name": "python",
   "nbconvert_exporter": "python",
   "pygments_lexer": "ipython3",
   "version": "3.11.6"
  }
 },
 "nbformat": 4,
 "nbformat_minor": 5
}
