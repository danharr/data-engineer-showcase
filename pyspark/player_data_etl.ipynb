{
 "cells": [
  {
   "cell_type": "markdown",
   "id": "c8657440-75bd-43fd-ab70-793610cbf82c",
   "metadata": {},
   "source": [
    "### This notebook transform the data similar to how I transform data using SQL in dbt folder"
   ]
  },
  {
   "cell_type": "code",
   "execution_count": 2,
   "id": "8e2f598e-b440-4e26-a021-225f6625ffae",
   "metadata": {},
   "outputs": [],
   "source": [
    "import pyspark"
   ]
  },
  {
   "cell_type": "code",
   "execution_count": 3,
   "id": "9fad796a-4205-4503-b1a8-9e1f7dd68ea0",
   "metadata": {},
   "outputs": [
    {
     "data": {
      "text/plain": [
       "2"
      ]
     },
     "execution_count": 3,
     "metadata": {},
     "output_type": "execute_result"
    }
   ],
   "source": [
    "1+1"
   ]
  },
  {
   "cell_type": "code",
   "execution_count": null,
   "id": "ca4bb338-bce1-4f3b-a70d-d4407f8700ff",
   "metadata": {},
   "outputs": [],
   "source": []
  }
 ],
 "metadata": {
  "kernelspec": {
   "display_name": "Python 3 (ipykernel)",
   "language": "python",
   "name": "python3"
  },
  "language_info": {
   "codemirror_mode": {
    "name": "ipython",
    "version": 3
   },
   "file_extension": ".py",
   "mimetype": "text/x-python",
   "name": "python",
   "nbconvert_exporter": "python",
   "pygments_lexer": "ipython3",
   "version": "3.11.6"
  }
 },
 "nbformat": 4,
 "nbformat_minor": 5
}
