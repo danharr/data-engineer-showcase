{
 "cells": [
  {
   "cell_type": "markdown",
   "id": "c8657440-75bd-43fd-ab70-793610cbf82c",
   "metadata": {},
   "source": [
    "### This notebook transform the data similar to how I transform data using SQL in dbt folder"
   ]
  },
  {
   "cell_type": "markdown",
   "id": "035c8663-b1bd-4e05-b8de-91dd0bb6a440",
   "metadata": {},
   "source": [
    "Initialize spark session"
   ]
  },
  {
   "cell_type": "code",
   "execution_count": 5,
   "id": "8e2f598e-b440-4e26-a021-225f6625ffae",
   "metadata": {},
   "outputs": [],
   "source": [
    "from pyspark.sql import SparkSession\n",
    "\n",
    "# Initialize SparkSession\n",
    "spark = SparkSession.builder \\\n",
    "    .appName(\"Read CSV with PySpark\") \\\n",
    "    .getOrCreate()"
   ]
  },
  {
   "cell_type": "code",
   "execution_count": 12,
   "id": "9fad796a-4205-4503-b1a8-9e1f7dd68ea0",
   "metadata": {},
   "outputs": [],
   "source": [
    "# Read CSV file into DataFrame\n",
    "df = spark.read.csv(\"players.csv\", header=True, inferSchema=True)"
   ]
  },
  {
   "cell_type": "code",
   "execution_count": 13,
   "id": "ca4bb338-bce1-4f3b-a70d-d4407f8700ff",
   "metadata": {},
   "outputs": [
    {
     "name": "stdout",
     "output_type": "stream",
     "text": [
      "root\n",
      " |-- JORDAN PICKFORD: string (nullable = true)\n",
      " |-- Jul 1, 2017: string (nullable = true)\n",
      " |-- Everton: string (nullable = true)\n",
      "\n",
      "+------------------+------------+-------+\n",
      "|   JORDAN PICKFORD| Jul 1, 2017|Everton|\n",
      "+------------------+------------+-------+\n",
      "|     JOÃO VIRGÍNIA| Jul 1, 2020|Everton|\n",
      "|     ANDY LONERGAN|Aug 20, 2021|Everton|\n",
      "|JARRAD BRANTHWAITE|Jan 13, 2020|Everton|\n",
      "|   JAMES TARKOWSKI| Jul 2, 2022|Everton|\n",
      "|       BEN GODFREY| Oct 5, 2020|Everton|\n",
      "|     MICHAEL KEANE| Jul 3, 2017|Everton|\n",
      "| VITALIY MYKOLENKO| Jan 1, 2022|Everton|\n",
      "|      ASHLEY YOUNG|Jul 13, 2023|Everton|\n",
      "|  NATHAN PATTERSON| Jan 4, 2022|Everton|\n",
      "|    SEAMUS COLEMAN| Jan 1, 2009|Everton|\n",
      "|      AMADOU ONANA| Aug 9, 2022|Everton|\n",
      "|      JAMES GARNER| Sep 1, 2022|Everton|\n",
      "|ABDOULAYE DOUCOURÉ| Sep 8, 2020|Everton|\n",
      "|       ANDRÉ GOMES| Jul 1, 2019|Everton|\n",
      "|     IDRISSA GUEYE| Sep 1, 2022|Everton|\n",
      "|     TYLER ONYANGO| Jul 1, 2023|Everton|\n",
      "|         DELE ALLI|Jan 31, 2022|Everton|\n",
      "|     DWIGHT MCNEIL|Jul 28, 2022|Everton|\n",
      "|    ARNAUT DANJUMA|Jul 23, 2023|Everton|\n",
      "|      LEWIS DOBBIN| Jul 1, 2023|Everton|\n",
      "+------------------+------------+-------+\n",
      "only showing top 20 rows\n",
      "\n"
     ]
    }
   ],
   "source": [
    "# Display DataFrame schema\n",
    "df.printSchema()\n",
    "\n",
    "# Display first few rows of DataFrame\n",
    "df.show()"
   ]
  },
  {
   "cell_type": "code",
   "execution_count": null,
   "id": "f9c60183-5485-4210-a3f0-a10d9d28cc5c",
   "metadata": {},
   "outputs": [],
   "source": []
  }
 ],
 "metadata": {
  "kernelspec": {
   "display_name": "Python 3 (ipykernel)",
   "language": "python",
   "name": "python3"
  },
  "language_info": {
   "codemirror_mode": {
    "name": "ipython",
    "version": 3
   },
   "file_extension": ".py",
   "mimetype": "text/x-python",
   "name": "python",
   "nbconvert_exporter": "python",
   "pygments_lexer": "ipython3",
   "version": "3.11.6"
  }
 },
 "nbformat": 4,
 "nbformat_minor": 5
}
