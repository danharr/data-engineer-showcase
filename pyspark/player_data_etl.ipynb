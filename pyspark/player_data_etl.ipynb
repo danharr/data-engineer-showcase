{
 "cells": [
  {
   "cell_type": "markdown",
   "id": "c8657440-75bd-43fd-ab70-793610cbf82c",
   "metadata": {},
   "source": [
    "### This notebook transform the data similar to how I transform data using SQL in dbt folder"
   ]
  },
  {
   "cell_type": "markdown",
   "id": "035c8663-b1bd-4e05-b8de-91dd0bb6a440",
   "metadata": {},
   "source": [
    "Initialize spark session"
   ]
  },
  {
   "cell_type": "code",
   "execution_count": 67,
   "id": "8e2f598e-b440-4e26-a021-225f6625ffae",
   "metadata": {},
   "outputs": [],
   "source": [
    "from pyspark.sql import SparkSession\n",
    "from pyspark.sql.types import StructType, StructField, StringType, IntegerType, DoubleType\n",
    "from pyspark.sql.functions import to_date, date_format, col, when\n",
    "from datetime import datetime\n",
    "\n",
    "\n",
    "# Initialize SparkSession\n",
    "spark = SparkSession.builder \\\n",
    "    .appName(\"Read CSV with PySpark\") \\\n",
    "    .getOrCreate()"
   ]
  },
  {
   "cell_type": "code",
   "execution_count": 53,
   "id": "9fad796a-4205-4503-b1a8-9e1f7dd68ea0",
   "metadata": {},
   "outputs": [],
   "source": [
    "# Read CSV file into DataFrame\n",
    "\n",
    "schema = StructType([\n",
    "    StructField(\"player\", StringType(), True),\n",
    "    StructField(\"date\", StringType(), True),\n",
    "    StructField(\"club\", StringType(), True),\n",
    "    # Add more fields as needed\n",
    "])\n",
    "\n",
    "\n",
    "players = spark.read.csv(\"data/players.csv\", schema=schema)"
   ]
  },
  {
   "cell_type": "code",
   "execution_count": 54,
   "id": "ca4bb338-bce1-4f3b-a70d-d4407f8700ff",
   "metadata": {},
   "outputs": [
    {
     "name": "stdout",
     "output_type": "stream",
     "text": [
      "root\n",
      " |-- player: string (nullable = true)\n",
      " |-- date: string (nullable = true)\n",
      " |-- club: string (nullable = true)\n",
      "\n",
      "+------------------+------------+-------+\n",
      "|            player|        date|   club|\n",
      "+------------------+------------+-------+\n",
      "|   JORDAN PICKFORD| Jul 1, 2017|Everton|\n",
      "|     JOÃO VIRGÍNIA| Jul 1, 2020|Everton|\n",
      "|     ANDY LONERGAN|Aug 20, 2021|Everton|\n",
      "|JARRAD BRANTHWAITE|Jan 13, 2020|Everton|\n",
      "|   JAMES TARKOWSKI| Jul 2, 2022|Everton|\n",
      "|       BEN GODFREY| Oct 5, 2020|Everton|\n",
      "|     MICHAEL KEANE| Jul 3, 2017|Everton|\n",
      "| VITALIY MYKOLENKO| Jan 1, 2022|Everton|\n",
      "|      ASHLEY YOUNG|Jul 13, 2023|Everton|\n",
      "|  NATHAN PATTERSON| Jan 4, 2022|Everton|\n",
      "|    SEAMUS COLEMAN| Jan 1, 2009|Everton|\n",
      "|      AMADOU ONANA| Aug 9, 2022|Everton|\n",
      "|      JAMES GARNER| Sep 1, 2022|Everton|\n",
      "|ABDOULAYE DOUCOURÉ| Sep 8, 2020|Everton|\n",
      "|       ANDRÉ GOMES| Jul 1, 2019|Everton|\n",
      "|     IDRISSA GUEYE| Sep 1, 2022|Everton|\n",
      "|     TYLER ONYANGO| Jul 1, 2023|Everton|\n",
      "|         DELE ALLI|Jan 31, 2022|Everton|\n",
      "|     DWIGHT MCNEIL|Jul 28, 2022|Everton|\n",
      "|    ARNAUT DANJUMA|Jul 23, 2023|Everton|\n",
      "+------------------+------------+-------+\n",
      "only showing top 20 rows\n",
      "\n"
     ]
    }
   ],
   "source": [
    "# Display DataFrame schema\n",
    "players.printSchema()\n",
    "\n",
    "# Display first few rows of DataFrame\n",
    "players.show()"
   ]
  },
  {
   "cell_type": "markdown",
   "id": "58c84e3d-a300-4b83-a9f7-c984adbefccd",
   "metadata": {},
   "source": [
    "### handle the dates"
   ]
  },
  {
   "cell_type": "code",
   "execution_count": 55,
   "id": "28f0f612-0d3c-4ecc-a27b-8d51016481dc",
   "metadata": {},
   "outputs": [],
   "source": [
    "players = players.withColumn(\"date\", to_date(players[\"date\"], \"MMM d, yyyy\"))"
   ]
  },
  {
   "cell_type": "code",
   "execution_count": 56,
   "id": "acc6b20e-7775-4b9f-a997-25b3955eec60",
   "metadata": {},
   "outputs": [
    {
     "name": "stdout",
     "output_type": "stream",
     "text": [
      "+--------------------+----------+-----------------+\n",
      "|              player|      date|             club|\n",
      "+--------------------+----------+-----------------+\n",
      "|         BOBBY CLARK|      NULL|        Liverpool|\n",
      "| KAINE KESLER-HAYDEN|      NULL|      Aston Villa|\n",
      "|     ALFIE GILCHRIST|      NULL|          Chelsea|\n",
      "|      CESARE CASADEI|      NULL|          Chelsea|\n",
      "|      SEAMUS COLEMAN|2009-01-01|          Everton|\n",
      "|          LEWIS DUNK|2010-07-01|         Brighton|\n",
      "|           JOEL WARD|2012-07-01|   Crystal Palace|\n",
      "|        PAUL DUMMETT|2012-07-01|        Newcastle|\n",
      "|         SOLLY MARCH|2013-07-01|         Brighton|\n",
      "|          ADAM SMITH|2014-01-28|      Bournemouth|\n",
      "|PELLY RUDDOCK MPANZU|2014-01-28|            Luton|\n",
      "|           LUKE SHAW|2014-07-01|          Man Utd|\n",
      "|        CHRIS BASHAM|2014-07-01| Sheffield United|\n",
      "|     AARON CRESSWELL|2014-07-03|         West Ham|\n",
      "|          BEN DAVIES|2014-07-23|Tottenham Hotspur|\n",
      "|    JAMAAL LASCELLES|2014-08-09|        Newcastle|\n",
      "|         TOM CAIRNEY|2015-07-01|           Fulham|\n",
      "|           JOE GOMEZ|2015-07-01|        Liverpool|\n",
      "|           DAN POTTS|2015-07-01|            Luton|\n",
      "|      ANGELO OGBONNA|2015-07-10|         West Ham|\n",
      "+--------------------+----------+-----------------+\n",
      "only showing top 20 rows\n",
      "\n"
     ]
    }
   ],
   "source": [
    "players = players.orderBy(\"date\")\n",
    "players.show()"
   ]
  },
  {
   "cell_type": "markdown",
   "id": "aa2cde42-f697-4f9b-9a88-4e1754e28ad1",
   "metadata": {},
   "source": [
    "### read in manager data"
   ]
  },
  {
   "cell_type": "code",
   "execution_count": 68,
   "id": "1a1e9b84-ee5c-436f-9c73-b45aabf8fb86",
   "metadata": {},
   "outputs": [
    {
     "name": "stdout",
     "output_type": "stream",
     "text": [
      "+-----------------+----------+----------+-------+\n",
      "|          manager|     start|       end|   club|\n",
      "+-----------------+----------+----------+-------+\n",
      "|     Mikel Arteta|2019-12-22|2024-03-14|Arsenal|\n",
      "|Fredrik Ljungberg|2019-11-29|2019-12-22|Arsenal|\n",
      "|       Unai Emery|2018-05-23|2019-11-29|Arsenal|\n",
      "|    Arsene Wenger|1996-09-30|2018-05-14|Arsenal|\n",
      "|         Pat Rice|1996-09-16|1996-09-30|Arsenal|\n",
      "|  Stewart Houston|1996-08-12|1996-09-16|Arsenal|\n",
      "|      Bruce Rioch|1995-06-08|1996-08-12|Arsenal|\n",
      "|  Stewart Houston|1995-02-21|1996-06-08|Arsenal|\n",
      "|    George Graham|1986-05-14|1995-02-21|Arsenal|\n",
      "| Steve Burtenshaw|1986-03-25|1986-05-14|Arsenal|\n",
      "|         Don Howe|1983-12-16|1986-03-22|Arsenal|\n",
      "|      Terry Neill|1976-07-08|1983-12-16|Arsenal|\n",
      "|       Bertie Mee|1966-06-01|1976-05-04|Arsenal|\n",
      "|     Billy Wright|1962-05-01|1966-06-01|Arsenal|\n",
      "|   George Swindin|1958-07-01|1962-05-01|Arsenal|\n",
      "|    Jack Crayston|1956-11-01|1958-05-01|Arsenal|\n",
      "|    Tom Whittaker|1947-06-01|1956-10-01|Arsenal|\n",
      "|   George Allison|1934-06-01|1947-05-01|Arsenal|\n",
      "|  Herbert Chapman|1925-06-01|1934-01-01|Arsenal|\n",
      "|  Leslie Knighton|1919-05-01|1925-06-01|Arsenal|\n",
      "+-----------------+----------+----------+-------+\n",
      "only showing top 20 rows\n",
      "\n"
     ]
    }
   ],
   "source": [
    "manager_schema = StructType([\n",
    "    StructField(\"manager\", StringType(), True),\n",
    "    StructField(\"start\", StringType(), True),\n",
    "    StructField(\"end\", StringType(), True),\n",
    "    StructField(\"club\", StringType(), True),\n",
    "    # Add more fields as needed\n",
    "])\n",
    "\n",
    "\n",
    "managers = spark.read.option(\"header\", \"true\").csv(\"data/managers.csv\", schema=manager_schema)\n",
    "managers = managers.withColumn(\"start\", to_date(managers[\"start\"], \"dd MMM, yyyy\"))\n",
    "managers = managers.withColumn(\"end\", to_date(managers[\"end\"], \"dd MMM, yyyy\"))\n",
    "managers = managers.withColumn(\"end\", when(col(\"end\").isNull(), datetime.today().date()).otherwise(col(\"end\")))\n",
    "\n",
    "managers.show()"
   ]
  },
  {
   "cell_type": "markdown",
   "id": "25233658-949f-48c0-9fa5-6916e9436b58",
   "metadata": {},
   "source": [
    "## join using sql"
   ]
  },
  {
   "cell_type": "code",
   "execution_count": 69,
   "id": "bcfe23af-0e81-4ef9-aa5c-92e2031608be",
   "metadata": {},
   "outputs": [
    {
     "name": "stdout",
     "output_type": "stream",
     "text": [
      "+------------------+-------+---------------+\n",
      "|            player|   club|        manager|\n",
      "+------------------+-------+---------------+\n",
      "|   JORDAN PICKFORD|Everton|  Ronald Koeman|\n",
      "|     JOÃO VIRGÍNIA|Everton|Carlo Ancelotti|\n",
      "|     ANDY LONERGAN|Everton| Rafael Benitez|\n",
      "|JARRAD BRANTHWAITE|Everton|Carlo Ancelotti|\n",
      "|   JAMES TARKOWSKI|Everton|  Frank Lampard|\n",
      "|       BEN GODFREY|Everton|Carlo Ancelotti|\n",
      "|     MICHAEL KEANE|Everton|  Ronald Koeman|\n",
      "| VITALIY MYKOLENKO|Everton| Rafael Benitez|\n",
      "|      ASHLEY YOUNG|Everton|     Sean Dyche|\n",
      "|  NATHAN PATTERSON|Everton| Rafael Benitez|\n",
      "|    SEAMUS COLEMAN|Everton|    David Moyes|\n",
      "|      AMADOU ONANA|Everton|  Frank Lampard|\n",
      "|      JAMES GARNER|Everton|  Frank Lampard|\n",
      "|ABDOULAYE DOUCOURÉ|Everton|Carlo Ancelotti|\n",
      "|       ANDRÉ GOMES|Everton|    Marco Silva|\n",
      "|     IDRISSA GUEYE|Everton|  Frank Lampard|\n",
      "|     TYLER ONYANGO|Everton|     Sean Dyche|\n",
      "|         DELE ALLI|Everton|  Frank Lampard|\n",
      "|     DWIGHT MCNEIL|Everton|  Frank Lampard|\n",
      "|    ARNAUT DANJUMA|Everton|     Sean Dyche|\n",
      "+------------------+-------+---------------+\n",
      "only showing top 20 rows\n",
      "\n"
     ]
    }
   ],
   "source": [
    "players.createOrReplaceTempView(\"players\")\n",
    "managers.createOrReplaceTempView(\"managers\")\n",
    "\n",
    "# Perform SQL join operation\n",
    "data = spark.sql(\"\"\"\n",
    "    SELECT players.player, players.club, managers.manager\n",
    "    FROM players \n",
    "    left join managers\n",
    "    on players.club = managers.club and players.date >= managers.start and players.date < managers.end\n",
    "   \n",
    "\"\"\")\n",
    "\n",
    "data.show()"
   ]
  },
  {
   "cell_type": "code",
   "execution_count": null,
   "id": "bd98e900-3ca4-4bee-805a-334a9f03d595",
   "metadata": {},
   "outputs": [],
   "source": []
  }
 ],
 "metadata": {
  "kernelspec": {
   "display_name": "Python 3 (ipykernel)",
   "language": "python",
   "name": "python3"
  },
  "language_info": {
   "codemirror_mode": {
    "name": "ipython",
    "version": 3
   },
   "file_extension": ".py",
   "mimetype": "text/x-python",
   "name": "python",
   "nbconvert_exporter": "python",
   "pygments_lexer": "ipython3",
   "version": "3.11.6"
  }
 },
 "nbformat": 4,
 "nbformat_minor": 5
}
